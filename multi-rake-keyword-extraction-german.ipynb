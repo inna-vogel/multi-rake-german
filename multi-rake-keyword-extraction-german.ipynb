{
 "cells": [
  {
   "cell_type": "markdown",
   "metadata": {},
   "source": [
    "# Multilingual Rapid Automatic Keyword Extraction (RAKE) for Python\n",
    "\n",
    "## Automatic keyword extraction from text written in any language\n",
    "\n",
    "Original Code: https://github.com/vgrabovets/multi_rake"
   ]
  },
  {
   "cell_type": "markdown",
   "metadata": {},
   "source": [
    "### Install python package "
   ]
  },
  {
   "cell_type": "code",
   "execution_count": null,
   "metadata": {},
   "outputs": [],
   "source": [
    "%pip install multi-rake"
   ]
  },
  {
   "cell_type": "markdown",
   "metadata": {},
   "source": [
    "## Basic example of multi rake without any specifications"
   ]
  },
  {
   "cell_type": "code",
   "execution_count": 16,
   "metadata": {},
   "outputs": [
    {
     "name": "stdout",
     "output_type": "stream",
     "text": [
      "[('weinstein-prozess anscheinend uneins', 9.0), ('keinem ergebnis gekommen', 9.0), ('schwersten anklagepunkten scheint', 9.0), ('schwersten vorwürfen offenbar', 9.0), ('einstimmiges urteil abgeben', 9.0), ('woche beratung', 4.0), ('keiner einigung', 4.0), ('fünf anklagepunkte', 4.0), ('beratungen fortführen', 4.0), ('danach beendete', 4.0)]\n"
     ]
    }
   ],
   "source": [
    "from multi_rake import Rake\n",
    "\n",
    "text_de = (\n",
    "    \"\"\"Jury im Weinstein-Prozess anscheinend uneins.\n",
    "    Nach einer Woche Beratung sind die Geschworenen zu keinem Ergebnis gekommen. \n",
    "    Vor allem bei den schwersten Anklagepunkten scheint die Jury sich nicht einig zu sein.\n",
    "    Im aufsehenerregenden Vergewaltigungsprozess um Harvey Weinstein scheint die Jury bei den \n",
    "    schwersten Vorwürfen offenbar zu keiner Einigung zu kommen. \n",
    "    Seit 2017 haben mehr als 80 Frauen Weinstein sexuelle Übergriffe vorgeworfen. \n",
    "    In dem weltweit beachteten New Yorker Prozess geht es seit Januar aber vor allem um zwei Anschuldigungen: \n",
    "    Weinstein soll 2006 Miriam Haley zum Oralsex gezwungen und Jessica Mann 2013 vergewaltigt haben. \n",
    "    Der Prozess gilt als Zäsur der sogenannten MeToo-Bewegung, die von dem Fall ausgelöst wurde. \n",
    "    Unter diesem Schlagwort sammelten unzählige Frauen in aller Welt ihre eigenen Erfahrungen \n",
    "    mit chauvinistischen Sprüchen, unflätigem Verhalten und sexueller Gewalt, die sie in den Geschichten der \n",
    "    mutmaßlichen Weinstein-Opfer wiedererkannten.\n",
    "    \"\"\"\n",
    ")\n",
    "\n",
    "rake = Rake()\n",
    "\n",
    "keywords = rake.apply(text_en)\n",
    "\n",
    "print(keywords[:10])"
   ]
  },
  {
   "cell_type": "markdown",
   "metadata": {},
   "source": [
    "#### Even without any specifications one can see that the text is about the Weinstein lawsuit"
   ]
  },
  {
   "cell_type": "markdown",
   "metadata": {},
   "source": [
    "## Create a specified multi-rake object for German"
   ]
  },
  {
   "cell_type": "code",
   "execution_count": 29,
   "metadata": {},
   "outputs": [],
   "source": [
    "from nltk.corpus import stopwords\n",
    "\n",
    "rake_specified = Rake(\n",
    "    min_chars=3,\n",
    "    max_words=1,\n",
    "    min_freq=1,\n",
    "    language_code=\"de\",  # language code german\n",
    "    stopwords= stopwords.words('german'),  # {'und', 'auf', 'dann'}\n",
    "    max_words_unknown_lang=2,\n",
    "    generated_stopwords_percentile=80,\n",
    "    generated_stopwords_max_len=10,\n",
    "    generated_stopwords_min_freq=2,\n",
    ")"
   ]
  },
  {
   "cell_type": "markdown",
   "metadata": {},
   "source": [
    "**min_chars** - word is selected as keyword if its length is >= min_chars. (Default 3)\n",
    "\n",
    "**max_words** - maximum number of words in phrase considered to be a keyword. (Default 3)\n",
    "\n",
    "**min_freq** - minimum number of occurences of a phrase to be considered a keyword. (Default 1)\n",
    "\n",
    "**language_code** - provide language code as string. Even without specifying language algorithm will try to determine language with cld2 and use corresponding set of built-in stopwords. See original code for provided languages. (Default None)\n",
    "\n",
    "**stopwords** - provide own collection of stopwords. Here we use German stopwords from NLTK (Default None)\n",
    "\n",
    "Keep language_code and stopwords as None and stopwords will be generated from provided text.\n",
    "\n",
    "**max_words_unknown_lang** - the same as max_words but will be used if language is unknown and stopwords are generated from provided text. (Default 2)\n",
    "\n",
    "**generated_stopwords_percentile** - to generate stopwords distribution of every word is created in text by frequency. Words above this percentile (0 - 100) will be considered candidates to become stopwords. (Default 80)\n",
    "\n",
    "**generated_stopwords_max_len** - maximum character length of generated stopwords. (Default 3)\n",
    "\n",
    "**generated_stopwords_min_freq** - minimum frequency of generated stopwords in the distribution. (Default 2)"
   ]
  },
  {
   "cell_type": "code",
   "execution_count": 30,
   "metadata": {},
   "outputs": [],
   "source": [
    "keywords = rake_specified.apply(\n",
    "    text_de,\n",
    ")"
   ]
  },
  {
   "cell_type": "code",
   "execution_count": 31,
   "metadata": {},
   "outputs": [
    {
     "data": {
      "text/plain": [
       "[('jury', 1.0),\n",
       " ('geschworenen', 1.0),\n",
       " ('einigung', 1.0),\n",
       " ('kommen', 1.0),\n",
       " ('mehr', 1.0),\n",
       " ('weinstein', 1.0),\n",
       " ('zäsur', 1.0),\n",
       " ('welt', 1.0),\n",
       " ('geschichten', 1.0)]"
      ]
     },
     "execution_count": 31,
     "metadata": {},
     "output_type": "execute_result"
    }
   ],
   "source": [
    "keywords"
   ]
  },
  {
   "cell_type": "markdown",
   "metadata": {},
   "source": [
    "A Python module implementation of the Rapid Automatic Keyword Extraction (RAKE) algorithm as described in: Rose, S., Engel, D., Cramer, N., & Cowley, W. (2010). Automatic Keyword Extraction from Individual Documents. In M. W. Berry & J. Kogan (Eds.), Text Mining: Theory and Applications: John Wiley & Sons. Initially by @aneesha, packaged by @tomaspinho."
   ]
  },
  {
   "cell_type": "code",
   "execution_count": null,
   "metadata": {},
   "outputs": [],
   "source": []
  }
 ],
 "metadata": {
  "kernelspec": {
   "display_name": "Python 3",
   "language": "python",
   "name": "python3"
  },
  "language_info": {
   "codemirror_mode": {
    "name": "ipython",
    "version": 3
   },
   "file_extension": ".py",
   "mimetype": "text/x-python",
   "name": "python",
   "nbconvert_exporter": "python",
   "pygments_lexer": "ipython3",
   "version": "3.7.1"
  }
 },
 "nbformat": 4,
 "nbformat_minor": 4
}
