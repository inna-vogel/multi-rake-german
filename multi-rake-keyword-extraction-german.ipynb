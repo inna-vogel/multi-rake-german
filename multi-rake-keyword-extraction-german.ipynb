{
 "cells": [
  {
   "cell_type": "markdown",
   "metadata": {},
   "source": [
    "# Multilingual Rapid Automatic Keyword Extraction (RAKE) for Python\n",
    "\n",
    "## Automatic keyword extraction from text written in any language\n",
    "\n",
    "Original Code: https://github.com/vgrabovets/multi_rake"
   ]
  },
  {
   "cell_type": "markdown",
   "metadata": {},
   "source": [
    "### Install python package "
   ]
  },
  {
   "cell_type": "code",
   "execution_count": 1,
   "metadata": {},
   "outputs": [
    {
     "name": "stdout",
     "output_type": "stream",
     "text": [
      "Requirement already satisfied: multi-rake in c:\\programdata\\anaconda3\\envs\\global-environment\\lib\\site-packages (0.0.1)\n",
      "Requirement already satisfied: numpy>=1.14.4 in c:\\programdata\\anaconda3\\envs\\global-environment\\lib\\site-packages (from multi-rake) (1.18.0)\n",
      "Requirement already satisfied: cld2-cffi>=0.1.4 in c:\\programdata\\anaconda3\\envs\\global-environment\\lib\\site-packages (from multi-rake) (0.1.4)\n",
      "Requirement already satisfied: regex>=2018.6.6 in c:\\programdata\\anaconda3\\envs\\global-environment\\lib\\site-packages (from multi-rake) (2020.1.8)\n",
      "Requirement already satisfied: pyrsistent>=0.14.2 in c:\\programdata\\anaconda3\\envs\\global-environment\\lib\\site-packages (from multi-rake) (0.15.7)\n",
      "Requirement already satisfied: six in c:\\programdata\\anaconda3\\envs\\global-environment\\lib\\site-packages (from cld2-cffi>=0.1.4->multi-rake) (1.14.0)\n",
      "Requirement already satisfied: cffi in c:\\programdata\\anaconda3\\envs\\global-environment\\lib\\site-packages (from cld2-cffi>=0.1.4->multi-rake) (1.13.2)\n",
      "Requirement already satisfied: pycparser in c:\\programdata\\anaconda3\\envs\\global-environment\\lib\\site-packages (from cffi->cld2-cffi>=0.1.4->multi-rake) (2.19)\n",
      "Note: you may need to restart the kernel to use updated packages.\n"
     ]
    }
   ],
   "source": [
    "%pip install multi-rake"
   ]
  },
  {
   "cell_type": "code",
   "execution_count": 2,
   "metadata": {},
   "outputs": [],
   "source": [
    "from multi_rake import Rake"
   ]
  },
  {
   "cell_type": "markdown",
   "metadata": {},
   "source": [
    "## Basic example of multi rake without any specifications"
   ]
  },
  {
   "cell_type": "code",
   "execution_count": 3,
   "metadata": {},
   "outputs": [],
   "source": [
    "text_de = (\n",
    "    \"\"\"Auguste Rodin (1840–1917) ist der bedeutendste Bildhauer Frankreichs in der zweiten Hälfte des 19. Jahrhunderts. \n",
    "    Rodin führte Bildhauerei und Plastik zu völlig neuen Ausdrucksformen und näherte sich stilistisch mit seinen bewegten \n",
    "    Oberflächen dem Impressionismus an. Inhaltlich ist Rodins Werk vom Symbolismus stark beeinflusst, suchte der Pariser \n",
    "    Künstler doch menschliche Emotionen und nicht das Erzählerische in den Vordergrund zu stellen. Mit Werken wie \n",
    "    „Der Denker“, „Der Kuss“, „Die Bürger von Calais“ und „Eva“ schuf Rodin Ikonen der Moderne, die bei den Zeitgenossen \n",
    "    häufig auf Unverständnis stießen. Dennoch gelang ihm - u.a. mit Hilfe der Fotografie - kurz nach 1900 der \n",
    "    internationale Durchbruch. Auguste Rodin stammte aus einer konservativen Beamtenfamilie; sein Vater arbeitete in der \n",
    "    Polizeiverwaltung. Mit 13 Jahren wurde Rodin 1853 Schüler an der École Spéciale de Dessin et de Mathématiques, \n",
    "    bekannt als „Petite École“. Dort blieb er bis 1857. Während dieser Zeit versuchte er dreimal vergeblich, als Student an der berühmten École \n",
    "    nationale supérieure des beaux-arts de Paris aufgenommen zu werden, um Bildhauerei zu studieren. Daher setzte er \n",
    "    seine künstlerische Karriere ohne weitere offizielle Ausbildung fort. Als 1862 seine Schwester starb, geriet Rodin \n",
    "    in eine Lebenskrise und trat dem Orden Pères du Saint-Sacrement bei. Doch schon beim Eintritt in den Orden wurde \n",
    "    Rodin für sein künstlerisches Schaffen für alle Zeit freigestellt. Zwei Jahre später wurde Rodin Schüler von \n",
    "    Albert-Ernest Carrier-Belleuse. Er folgte seinem Meister 1870 nach Brüssel, aber die künstlerische \n",
    "    Auseinandersetzung wuchs zu einem handfesten Streit aus, und Rodin trennte sich 1870 von Carrier-Belleuse. \n",
    "    Ab dieser Zeit erfuhr Rodin durch öffentliche Aufträge auch seine erste künstlerische Anerkennung. Camille Claudel \n",
    "    (1884). In den Jahren 1875/76 unternahm Rodin eine Studienreise nach Italien, um das Geheimnis Michelangelos \n",
    "    zu entschlüsseln. 1877 kehrte er wieder nach Paris zurück, unter anderem, um Frankreichs gotische Kathedralen \n",
    "    zu studieren. Die Porzellanmanufaktur in Sèvres nahm Rodin für die Jahre 1879/82 unter Vertrag. 1883 lernte \n",
    "    Rodin Camille Claudel kennen. Sie wurde zuerst seine Schülerin, später seine Geliebte. Die Trennung erfolgte \n",
    "    im Jahr 1893. 1894 ließ sich Rodin in Meudon nieder und scharte dort einen Kreis junger Schriftsteller und \n",
    "    Künstler um sich. „Sie sind es, der in unserem Jahrhundert die glorreichste, die vollendetste Verkörperung der \n",
    "    plastischen Kunst darstellt“, so der zeitgenössische prominente Kunstkritiker Octave Mirbeau zu Rodin. Gwen John: \n",
    "    Selbstporträt (1902: Tate Gallery, London). Um die Jahrhundertwende nahm Rodin an den frühen Ausstellungen der \n",
    "    Pastel Society teil. Bei der Weltausstellung in Paris 1900 wurden im Pavillon Rodin 171 seiner Werke präsentiert. \n",
    "    Im Jahr 1904 lernte er die Malerin Gwen John aus Wales kennen, sie wurde sein Modell und für etwa zehn Jahre \n",
    "    seine Geliebte. Im selben Jahr wurde er Präsident der International Society of Sculptors, Painters and Gravers \n",
    "    (zuvor Vizepräsident) und löste in dieser Position James McNeill Whistler ab. In den Jahren 1905/06 war Rainer \n",
    "    Maria Rilke als Privatsekretär Rodins tätig. Im Pariser Hôtel Biron installierte Rodin 1907 ein weiteres Atelier, \n",
    "    das heute als Musée Rodin zu besichtigen ist. Im Alter von 76 Jahren heiratete Rodin im Januar 1917 seine \n",
    "    langjährige Lebensgefährtin Rose Beuret, die jedoch bereits im Februar an einer Lungenentzündung starb. \n",
    "    Am 17. November 1917 starb Auguste Rodin in Meudon. Am 24. November wurde Rodin im Park des Musée Rodin de \n",
    "    Meudon neben seiner Frau Rose beigesetzt.\n",
    "    \"\"\"\n",
    ")"
   ]
  },
  {
   "cell_type": "code",
   "execution_count": 4,
   "metadata": {},
   "outputs": [
    {
     "name": "stdout",
     "output_type": "stream",
     "text": [
      "[('bedeutendste bildhauer frankreichs', 9.0), ('völlig neuen ausdrucksformen', 9.0), ('seinen bewegten oberflächen', 9.0), ('symbolismus stark beeinflusst', 9.0), ('dennoch gelang ihm', 9.0), ('künstlerische karriere ohne', 9.0), ('offizielle ausbildung fort', 9.0), ('schon beim eintritt', 9.0), ('künstlerische auseinandersetzung wuchs', 9.0), ('erste künstlerische anerkennung', 9.0)]\n"
     ]
    }
   ],
   "source": [
    "rake = Rake()\n",
    "\n",
    "keywords = rake.apply(text_de)\n",
    "\n",
    "print(keywords[:10])"
   ]
  },
  {
   "cell_type": "markdown",
   "metadata": {},
   "source": [
    "#### Even without any explicit specifications one can see that the text is about an artist (sculptor) and his art work"
   ]
  },
  {
   "cell_type": "markdown",
   "metadata": {},
   "source": [
    "## Create a specified multi-rake object for German"
   ]
  },
  {
   "cell_type": "code",
   "execution_count": 5,
   "metadata": {},
   "outputs": [],
   "source": [
    "from nltk.corpus import stopwords\n",
    "\n",
    "rake_specified = Rake(\n",
    "    min_chars=3,\n",
    "    max_words=2,\n",
    "    min_freq=1,\n",
    "    language_code=\"de\",  # language code german\n",
    "    stopwords= stopwords.words('german'),  # {'und', 'auf', 'dann'}\n",
    "    max_words_unknown_lang=2,\n",
    "    generated_stopwords_percentile=80,\n",
    "    generated_stopwords_max_len=10,\n",
    "    generated_stopwords_min_freq=2,\n",
    ")"
   ]
  },
  {
   "cell_type": "markdown",
   "metadata": {},
   "source": [
    "**min_chars** - word is selected as keyword if its length is >= min_chars. (Default 3)\n",
    "\n",
    "**max_words** - maximum number of words in phrase considered to be a keyword. (Default 3)\n",
    "\n",
    "**min_freq** - minimum number of occurences of a phrase to be considered a keyword. (Default 1)\n",
    "\n",
    "**language_code** - provide language code as string. Even without specifying language algorithm will try to determine language with cld2 and use corresponding set of built-in stopwords. See original code for provided languages. (Default None)\n",
    "\n",
    "**stopwords** - provide own collection of stopwords. Here we use German stopwords from NLTK (Default None)\n",
    "\n",
    "Keep language_code and stopwords as None and stopwords will be generated from provided text.\n",
    "\n",
    "**max_words_unknown_lang** - the same as max_words but will be used if language is unknown and stopwords are generated from provided text. (Default 2)\n",
    "\n",
    "**generated_stopwords_percentile** - to generate stopwords distribution of every word is created in text by frequency. Words above this percentile (0 - 100) will be considered candidates to become stopwords. (Default 80)\n",
    "\n",
    "**generated_stopwords_max_len** - maximum character length of generated stopwords. (Default 3)\n",
    "\n",
    "**generated_stopwords_min_freq** - minimum frequency of generated stopwords in the distribution. (Default 2)"
   ]
  },
  {
   "cell_type": "code",
   "execution_count": 6,
   "metadata": {},
   "outputs": [],
   "source": [
    "keywords = rake_specified.apply(\n",
    "    text_de,\n",
    ")"
   ]
  },
  {
   "cell_type": "code",
   "execution_count": 7,
   "metadata": {},
   "outputs": [
    {
     "data": {
      "text/plain": [
       "[('zweiten hälfte', 4.0),\n",
       " ('bewegten oberflächen', 4.0),\n",
       " ('rodins werk', 4.0),\n",
       " ('menschliche emotionen', 4.0),\n",
       " ('„der denker', 4.0),\n",
       " ('„der kuss', 4.0),\n",
       " ('„die bürger', 4.0),\n",
       " ('zeitgenossen häufig', 4.0),\n",
       " ('unverständnis stießen', 4.0),\n",
       " ('dennoch gelang', 4.0),\n",
       " ('internationale durchbruch', 4.0),\n",
       " ('konservativen beamtenfamilie', 4.0),\n",
       " ('vater arbeitete', 4.0),\n",
       " ('„petite école', 4.0),\n",
       " ('zeit versuchte', 4.0),\n",
       " ('dreimal vergeblich', 4.0),\n",
       " ('daher setzte', 4.0),\n",
       " ('künstlerische karriere', 4.0),\n",
       " ('schwester starb', 4.0),\n",
       " ('orden pères', 4.0)]"
      ]
     },
     "execution_count": 7,
     "metadata": {},
     "output_type": "execute_result"
    }
   ],
   "source": [
    "keywords[:20] #top 20 keywords from text\n",
    "\n",
    "#"
   ]
  },
  {
   "cell_type": "markdown",
   "metadata": {},
   "Source": [
    "A Python module implementation of the Rapid Automatic Keyword Extraction (RAKE) algorithm as described in: Rose, S., Engel, D., Cramer, N., & Cowley, W. (2010). Automatic Keyword Extraction from Individual Documents. In M. W. Berry & J. Kogan (Eds.), Text Mining: Theory and Applications: John Wiley & Sons. Initially by @aneesha, packaged by @tomaspinho."
   ]
  }
 ],
 "metadata": {
  "kernelspec": {
   "display_name": "Python 3",
   "language": "python",
   "name": "python3"
  },
  "language_info": {
   "codemirror_mode": {
    "name": "ipython",
    "version": 3
   },
   "file_extension": ".py",
   "mimetype": "text/x-python",
   "name": "python",
   "nbconvert_exporter": "python",
   "pygments_lexer": "ipython3",
   "version": "3.7.1"
  }
 },
 "nbformat": 4,
 "nbformat_minor": 4
}
